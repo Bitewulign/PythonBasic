{
 "cells": [
  {
   "cell_type": "markdown",
   "metadata": {},
   "source": [
    "**1. List comprehension**\n",
    "* provides a concise way to create a new list based on an existing one\n",
    "* Method: [expression for item interable if condition ...]"
   ]
  },
  {
   "cell_type": "code",
   "execution_count": 14,
   "metadata": {},
   "outputs": [
    {
     "name": "stdout",
     "output_type": "stream",
     "text": [
      "[1, 2, 3, 4, 5, 6, 7, 8, 9, 10, 11, 12, 13, 14, 15, 16, 17, 18, 19, 20, 21, 22, 23, 24, 25, 26, 27, 28, 29, 30, 31, 32, 33, 34, 35, 36, 37, 38, 39, 40, 41, 42, 43, 44, 45, 46, 47, 48, 49, 50]\n"
     ]
    }
   ],
   "source": [
    "# Offers a consise way to create a new list based on an exisiting one\n",
    "examples = [x + 1 for x in range(50)]\n",
    "print(examples)"
   ]
  },
  {
   "cell_type": "markdown",
   "metadata": {},
   "source": [
    "**2. Nested lists**\n",
    "* Lists can contain other lists, creating multidimensional lists.\n",
    "* access method : outer_list[index1][index2]"
   ]
  },
  {
   "cell_type": "code",
   "execution_count": 15,
   "metadata": {},
   "outputs": [
    {
     "name": "stdout",
     "output_type": "stream",
     "text": [
      "2\n"
     ]
    }
   ],
   "source": [
    "nested_examples = [[1,2,3], [4, 5,6], [7,8,9]]\n",
    "print(nested_examples[0][1])"
   ]
  },
  {
   "cell_type": "markdown",
   "metadata": {},
   "source": [
    "**3. Slicing**\n",
    "* Allows you to extract a subste of elecments from a list.\n",
    "* Method: list[start:end:step]"
   ]
  },
  {
   "cell_type": "code",
   "execution_count": 16,
   "metadata": {},
   "outputs": [
    {
     "name": "stdout",
     "output_type": "stream",
     "text": [
      "[9, 25, 49, 81, 121, 169, 225, 289, 361]\n"
     ]
    }
   ],
   "source": [
    "Slice_example = [x**2 for x in range(30)]\n",
    "print(Slice_example[3:20:2])"
   ]
  },
  {
   "cell_type": "markdown",
   "metadata": {},
   "source": [
    "**4. Sorting**\n",
    "* Lists can be sorted in ascending or descending order.\n",
    "* Methods: list.sort() and list.sort(reverse=TRUE)"
   ]
  },
  {
   "cell_type": "code",
   "execution_count": 17,
   "metadata": {},
   "outputs": [
    {
     "name": "stdout",
     "output_type": "stream",
     "text": [
      "Ascending  [0, 1, 2, 3, 4, 7, 8]\n",
      "Descending sort  [8, 7, 4, 3, 2, 1, 0]\n"
     ]
    }
   ],
   "source": [
    "sort_example = [3,4,7,1,2,0,8]\n",
    "sort_example.sort()\n",
    "print('Ascending ', sort_example)\n",
    "sort_example = [3,4,7,1,2,0,8]\n",
    "sort_example.sort(reverse=True)\n",
    "print('Descending sort ', sort_example)"
   ]
  },
  {
   "cell_type": "markdown",
   "metadata": {},
   "source": [
    "**5.Reversing**\n",
    "* Reverse the order of elements in the list\n",
    "* Method : list.reverse()"
   ]
  },
  {
   "cell_type": "code",
   "execution_count": 18,
   "metadata": {},
   "outputs": [
    {
     "name": "stdout",
     "output_type": "stream",
     "text": [
      "[8, 0, 2, 1, 7, 4, 3]\n"
     ]
    }
   ],
   "source": [
    "reverse_example = [3,4,7,1,2,0,8]\n",
    "reverse_example.reverse()\n",
    "print(reverse_example)"
   ]
  },
  {
   "cell_type": "markdown",
   "metadata": {},
   "source": [
    "**6. Appending and extending**\n",
    "* Appending adds an element to the end of the list\n",
    "* Extending adds all the elements from an iterable (e.r another list) to the end of the list\n"
   ]
  },
  {
   "cell_type": "code",
   "execution_count": 19,
   "metadata": {},
   "outputs": [
    {
     "name": "stdout",
     "output_type": "stream",
     "text": [
      "[1, 3, 9, 2, 0, 2, 3]\n",
      "[1, 3, 9, 2, 0, 2, 3, 6, 4, 1]\n"
     ]
    }
   ],
   "source": [
    "lst_example = [1,3,9,2,0,2]\n",
    "lst_example.append(3)\n",
    "print(lst_example)\n",
    "lst_example.extend([6,4,1])\n",
    "print(lst_example)"
   ]
  },
  {
   "cell_type": "markdown",
   "metadata": {},
   "source": [
    "**7. Inserting**\n",
    "* inserts an element at a specified index\n",
    "* Methods : list.insert(index, element)"
   ]
  },
  {
   "cell_type": "code",
   "execution_count": 20,
   "metadata": {},
   "outputs": [
    {
     "name": "stdout",
     "output_type": "stream",
     "text": [
      "[10, 1, 3, 9, 2, 0, 2]\n"
     ]
    }
   ],
   "source": [
    "lst_example = [1,3,9,2,0,2]\n",
    "lst_example.insert(0,10)\n",
    "print(lst_example)"
   ]
  },
  {
   "cell_type": "markdown",
   "metadata": {},
   "source": [
    "**8. Deleting**\n",
    "* removes an element at a sepecified index\n",
    "* Method : del list[index]"
   ]
  },
  {
   "cell_type": "code",
   "execution_count": 21,
   "metadata": {},
   "outputs": [
    {
     "name": "stdout",
     "output_type": "stream",
     "text": [
      "[1, 9, 2, 0, 2]\n"
     ]
    }
   ],
   "source": [
    "lst_example = [1,3,9,2,0,2]\n",
    "del lst_example[1]\n",
    "print(lst_example)"
   ]
  },
  {
   "cell_type": "markdown",
   "metadata": {},
   "source": [
    "**9. Seraching**\n",
    "* returns the index the occurence of a specified element in a list\n",
    "* Method1 : list.index(element) for the first occurence of a specified element\n",
    "* Method2 : list.count(element) returns the number of occurence of a specified element\n"
   ]
  },
  {
   "cell_type": "code",
   "execution_count": 22,
   "metadata": {},
   "outputs": [
    {
     "name": "stdout",
     "output_type": "stream",
     "text": [
      "First occurance 3\n",
      "Number of occurance 2\n"
     ]
    }
   ],
   "source": [
    "lst_example = [1,3,9,2,0,2]\n",
    "print('First occurance', lst_example.index(2))\n",
    "print('Number of occurance', lst_example.count(2))"
   ]
  },
  {
   "cell_type": "markdown",
   "metadata": {},
   "source": [
    "**10.Copying**\n",
    "* Creates a new list with the same elements.\n",
    "* Method : list.copy() or list(list)\n",
    "* This does not affect the original list and changes to the new list wouln affect the original"
   ]
  },
  {
   "cell_type": "code",
   "execution_count": 23,
   "metadata": {},
   "outputs": [
    {
     "name": "stdout",
     "output_type": "stream",
     "text": [
      "[1, 3, 9, 2, 0, 2]\n",
      "[1, 3, 9, 2, 0, 2] [1, 3, 9, 2, 0, 2, 10]\n"
     ]
    }
   ],
   "source": [
    "lst_example = [1,3,9,2,0,2]\n",
    "lst_example_copy1 = lst_example.copy()\n",
    "print(lst_example_copy1)\n",
    "lst_example_copy1.append(10)\n",
    "print(lst_example, lst_example_copy1)"
   ]
  },
  {
   "cell_type": "markdown",
   "metadata": {},
   "source": [
    "**11. Chaining Methods**\n",
    "* Multiple list methods can be chained together for concise code"
   ]
  },
  {
   "cell_type": "code",
   "execution_count": 24,
   "metadata": {},
   "outputs": [
    {
     "name": "stdout",
     "output_type": "stream",
     "text": [
      "[9, 3, 2, 2, 1, 0]\n"
     ]
    }
   ],
   "source": [
    "lst_example = [1,3,9,2,0,2]\n",
    "lst_example.sort()\n",
    "lst_example.reverse()\n",
    "print(lst_example)"
   ]
  },
  {
   "cell_type": "markdown",
   "metadata": {},
   "source": [
    "**12. Generator Expressions**\n",
    "* Similar to list comprehensions but don't create an actual list.\n",
    "* Useful for memory efficiency when dealing with large datasets."
   ]
  },
  {
   "cell_type": "code",
   "execution_count": 25,
   "metadata": {},
   "outputs": [
    {
     "name": "stdout",
     "output_type": "stream",
     "text": [
      "<generator object <genexpr> at 0x0000024BA7959660>\n",
      "1\n",
      "2\n",
      "3\n",
      "4\n",
      "5\n",
      "6\n",
      "7\n",
      "8\n",
      "9\n",
      "10\n"
     ]
    }
   ],
   "source": [
    "Example =  (x + 1 for x in range(10))\n",
    "print(Example)\n",
    "for i in Example:\n",
    "    print(i)"
   ]
  },
  {
   "cell_type": "markdown",
   "metadata": {},
   "source": [
    "**13. Zip()**\n",
    "* Combines multiple lists into a single list of tuples.\n",
    "* Elements at the same index from each list are combined into a tuple."
   ]
  },
  {
   "cell_type": "code",
   "execution_count": 26,
   "metadata": {},
   "outputs": [
    {
     "name": "stdout",
     "output_type": "stream",
     "text": [
      "1 a 9\n",
      "2 b 8\n",
      "3 c 7\n",
      "4 d 6\n",
      "5 e 5\n",
      "6 f 4\n",
      "7 g 3\n",
      "8 h 2\n",
      "9 i 1\n"
     ]
    }
   ],
   "source": [
    "list1 = [1, 2, 3, 4, 5, 6, 7, 8, 9]\n",
    "list2 = ['a', 'b', 'c','d', 'e', 'f', 'g', 'h', 'i']\n",
    "list3 = list1.copy()\n",
    "list3.reverse()\n",
    "for l1, l2, l3 in  zip(list1, list2, list3):\n",
    "    print(l1, l2, l3)"
   ]
  }
 ],
 "metadata": {
  "kernelspec": {
   "display_name": "Python 3",
   "language": "python",
   "name": "python3"
  },
  "language_info": {
   "codemirror_mode": {
    "name": "ipython",
    "version": 3
   },
   "file_extension": ".py",
   "mimetype": "text/x-python",
   "name": "python",
   "nbconvert_exporter": "python",
   "pygments_lexer": "ipython3",
   "version": "3.9.0"
  }
 },
 "nbformat": 4,
 "nbformat_minor": 2
}
