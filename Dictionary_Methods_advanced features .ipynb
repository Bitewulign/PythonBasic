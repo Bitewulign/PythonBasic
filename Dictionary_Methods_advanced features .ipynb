{
 "cells": [
  {
   "cell_type": "markdown",
   "metadata": {},
   "source": [
    "**1. Nested Dictionaries**\n",
    "* Python allows you to create dictionaries, resulting in nested structures. This can be useful for representing hierarchical data. \n",
    "* Methods : {key : value}"
   ]
  },
  {
   "cell_type": "markdown",
   "metadata": {},
   "source": []
  },
  {
   "cell_type": "code",
   "execution_count": 1,
   "metadata": {},
   "outputs": [
    {
     "name": "stdout",
     "output_type": "stream",
     "text": [
      "{'Abebe': {'phone': 234567, 'address': 'Silver spring'}, 'Kebede': {'phone': 2493598, 'address': 'Addis Ababa'}}\n"
     ]
    }
   ],
   "source": [
    "phone_book = {'Abebe' :{'phone': 234567,\n",
    "                     'address': 'Silver spring'},\n",
    "            'Kebede' : {'phone' : 2493598,\n",
    "            'address': 'Addis Ababa'}}\n",
    "print(phone_book)"
   ]
  },
  {
   "cell_type": "markdown",
   "metadata": {},
   "source": [
    "**2. get values**\n"
   ]
  },
  {
   "cell_type": "code",
   "execution_count": 2,
   "metadata": {},
   "outputs": [
    {
     "name": "stdout",
     "output_type": "stream",
     "text": [
      "{'phone': 234567, 'address': 'Silver spring'}\n",
      "not known\n"
     ]
    }
   ],
   "source": [
    "print(phone_book.get('Abebe', 'not known'))\n",
    "print(phone_book.get('Mekonnen', 'not known'))"
   ]
  },
  {
   "cell_type": "markdown",
   "metadata": {},
   "source": [
    "**3. Setdefault()**\n",
    "* Similar to 2 (get) but adds the key to the dictionary if it doesnt exist, assigning a defualt value"
   ]
  },
  {
   "cell_type": "code",
   "execution_count": 3,
   "metadata": {},
   "outputs": [
    {
     "name": "stdout",
     "output_type": "stream",
     "text": [
      "{'Abebe': {'phone': 234567, 'address': 'Silver spring'}, 'Kebede': {'phone': 2493598, 'address': 'Addis Ababa'}, 'Mekonnen': 'not known'}\n"
     ]
    }
   ],
   "source": [
    "phone_book.setdefault('Mekonnen', 'not known')\n",
    "print(phone_book)"
   ]
  },
  {
   "cell_type": "markdown",
   "metadata": {},
   "source": [
    "**4. Dictionary comprehensions**\n",
    "* Provide a concise way to createa dictionaries from other iterables.\n",
    "* Method : Same as list comprehension but with curly braces"
   ]
  },
  {
   "cell_type": "code",
   "execution_count": 4,
   "metadata": {},
   "outputs": [
    {
     "name": "stdout",
     "output_type": "stream",
     "text": [
      "{0: 0, 1: 1, 2: 16, 3: 81, 4: 256, 5: 625, 6: 1296, 7: 2401, 8: 4096, 9: 6561, 10: 10000, 11: 14641, 12: 20736, 13: 28561, 14: 38416, 15: 50625, 16: 65536, 17: 83521, 18: 104976, 19: 130321, 20: 160000, 21: 194481, 22: 234256, 23: 279841, 24: 331776, 25: 390625, 26: 456976, 27: 531441, 28: 614656, 29: 707281}\n"
     ]
    }
   ],
   "source": [
    "Quardaples = {i: i ** 4 for i in range(30)}\n",
    "print(Quardaples)"
   ]
  },
  {
   "cell_type": "markdown",
   "metadata": {},
   "source": [
    "**5. Merging Dictionaries**\n",
    "* Method: use 'update()' method"
   ]
  },
  {
   "cell_type": "code",
   "execution_count": 5,
   "metadata": {},
   "outputs": [
    {
     "name": "stdout",
     "output_type": "stream",
     "text": [
      "{'Abebe': {'phone': 234567, 'address': 'Silver spring'}, 'Kebede': {'phone': 2493598, 'address': 'Addis Ababa'}, 'Mekonnen': '9057590'}\n"
     ]
    }
   ],
   "source": [
    "phone_book.update({'Mekonnen': '9057590'})\n",
    "print(phone_book)"
   ]
  },
  {
   "cell_type": "markdown",
   "metadata": {},
   "source": [
    "**6. Iterable Order**"
   ]
  },
  {
   "cell_type": "code",
   "execution_count": 6,
   "metadata": {},
   "outputs": [
    {
     "name": "stdout",
     "output_type": "stream",
     "text": [
      "Abebe\n",
      "Kebede\n",
      "Mekonnen\n",
      "================================================\n",
      "Abebe {'phone': 234567, 'address': 'Silver spring'}\n",
      "Kebede {'phone': 2493598, 'address': 'Addis Ababa'}\n",
      "Mekonnen 9057590\n"
     ]
    }
   ],
   "source": [
    "for person in phone_book:\n",
    "    print(person)\n",
    "print(\"================================================\")\n",
    "for person, values in phone_book.items():\n",
    "    print(person, values)"
   ]
  },
  {
   "cell_type": "markdown",
   "metadata": {},
   "source": [
    "**7.Copying dictionaries**\n",
    "* You can create a copy of a dictionary\n",
    "* mehtods: copy()"
   ]
  },
  {
   "cell_type": "code",
   "execution_count": 7,
   "metadata": {},
   "outputs": [
    {
     "name": "stdout",
     "output_type": "stream",
     "text": [
      "Abebe\n",
      "Kebede\n",
      "Mekonnen\n",
      "================================================\n",
      "Abebe {'phone': 234567, 'address': 'Silver spring'}\n",
      "Kebede {'phone': 2493598, 'address': 'Addis Ababa'}\n",
      "Mekonnen 9057590\n"
     ]
    }
   ],
   "source": [
    "new_phone_book = phone_book.copy()\n",
    "for person in new_phone_book:\n",
    "    print(person)\n",
    "print(\"================================================\")\n",
    "for person, values in new_phone_book.items():\n",
    "    print(person, values)"
   ]
  },
  {
   "cell_type": "markdown",
   "metadata": {},
   "source": [
    "**8. Type Hints:*\n",
    "* python version >= 3.6\n",
    "* import typing "
   ]
  },
  {
   "cell_type": "code",
   "execution_count": 8,
   "metadata": {},
   "outputs": [
    {
     "name": "stdout",
     "output_type": "stream",
     "text": [
      "{'Abebe': '+1-456-7890', 'Kebede': '+251-654-3210'}\n"
     ]
    }
   ],
   "source": [
    "from typing import Dict\n",
    "\n",
    "phone_book: Dict[str, str] = {\n",
    "    \"Abebe\": \"+1-456-7890\",\n",
    "    \"Kebede\": \"+251-654-3210\",\n",
    "}\n",
    "print(phone_book)"
   ]
  },
  {
   "cell_type": "code",
   "execution_count": null,
   "metadata": {},
   "outputs": [],
   "source": []
  }
 ],
 "metadata": {
  "kernelspec": {
   "display_name": "Python 3",
   "language": "python",
   "name": "python3"
  },
  "language_info": {
   "codemirror_mode": {
    "name": "ipython",
    "version": 3
   },
   "file_extension": ".py",
   "mimetype": "text/x-python",
   "name": "python",
   "nbconvert_exporter": "python",
   "pygments_lexer": "ipython3",
   "version": "3.9.0"
  }
 },
 "nbformat": 4,
 "nbformat_minor": 2
}
